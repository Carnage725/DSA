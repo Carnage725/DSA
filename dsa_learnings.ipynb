{
 "cells": [
  {
   "cell_type": "code",
   "execution_count": null,
   "id": "35b0fd2e",
   "metadata": {},
   "outputs": [],
   "source": [
    "# 1 linear search ordered array\n",
    "def linear_search(arr, key):\n",
    "    i = 0\n",
    "    for num in arr:\n",
    "        if num == key:\n",
    "            return i\n",
    "        elif num > key:\n",
    "            break\n",
    "        i += 1\n",
    "    \n",
    "    return None\n"
   ]
  },
  {
   "cell_type": "code",
   "execution_count": null,
   "id": "fe014891",
   "metadata": {},
   "outputs": [],
   "source": [
    "# 2 binary search ordered array\n",
    "def binary_search(arr, key):\n",
    "    lower = 0\n",
    "    upper = len(arr) - 1\n",
    "    \n",
    "    while lower <= upper:\n",
    "        mid = (lower + upper) // 2\n",
    "        \n",
    "        if arr[mid] == key:\n",
    "            return mid\n",
    "        elif arr[mid] < key:\n",
    "            lower = mid + 1\n",
    "        elif arr[mid] > key:\n",
    "            upper = mid - 1\n",
    "            \n",
    "    return None"
   ]
  },
  {
   "cell_type": "code",
   "execution_count": null,
   "id": "0f2ebe15",
   "metadata": {},
   "outputs": [],
   "source": [
    "# 3 bubble sort implementation\n",
    "def bubble_sort(arr):\n",
    "    n = len(arr)\n",
    "    for i in range(0, n - 1, 1):\n",
    "        for j in range(0, n - i - 1, 1):\n",
    "            if arr[j] > arr[j + 1]:\n",
    "                arr[j], arr[j + 1] = arr[j + 1], arr[j]\n",
    "                \n",
    "    return arr\n",
    "\n",
    "\n",
    "arr = [7, 9, 3, 5, 4, 6]\n",
    "\n",
    "\n",
    "print(bubble_sort(arr))"
   ]
  },
  {
   "cell_type": "code",
   "execution_count": null,
   "id": "ec7dab6b",
   "metadata": {},
   "outputs": [],
   "source": [
    "# 4 # duplicate 1 implementation\n",
    "def duplicate1(arr):\n",
    "    for i in range(len(arr)):\n",
    "        for j in range(len(arr)):\n",
    "            if i != j and arr[i] == arr[j]:\n",
    "                return True\n",
    "    return False\n",
    "\n"
   ]
  },
  {
   "cell_type": "code",
   "execution_count": null,
   "id": "fc147e5b",
   "metadata": {},
   "outputs": [],
   "source": [
    "# 5 duplicate 2 implementation\n",
    "def duplicate2(arr):\n",
    "    newArr = []\n",
    "    for i in range(len(arr)):\n",
    "        if(newArr[arr[i]] == 1):\n",
    "            return True\n",
    "        else:\n",
    "            newArr[arr[i]] = 1\n",
    "    return False"
   ]
  },
  {
   "cell_type": "code",
   "execution_count": null,
   "id": "c5c54b25",
   "metadata": {},
   "outputs": [],
   "source": [
    "# 6 selection sort implementation\n",
    "def selectionSort(arr):\n",
    "    for i in range(len(arr) - 1):\n",
    "        min_idx = i\n",
    "        \n",
    "        for j in range(i + 1, len(arr)):\n",
    "            if arr[j] < min_idx:\n",
    "                min_idx = j\n",
    "        \n",
    "        if min_idx != i:\n",
    "            arr[i], arr[min_idx] = arr[min_idx], arr[i]\n",
    "            \n",
    "    return arr"
   ]
  },
  {
   "cell_type": "code",
   "execution_count": null,
   "id": "cc44f8f3",
   "metadata": {},
   "outputs": [],
   "source": [
    "# 7 # insertion sort implementation\n",
    "def insertionSort(arr):\n",
    "    for i in range(1, len(arr)):\n",
    "        key = arr[i]\n",
    "        j = i - 1\n",
    "        \n",
    "        while j >= 0 and key < arr[j]:\n",
    "            arr[j + 1] = arr[j]\n",
    "            j -= 1\n",
    "            \n",
    "        arr[j + 1] = key\n",
    "\n",
    "    return arr\n",
    "\n"
   ]
  },
  {
   "cell_type": "code",
   "execution_count": null,
   "id": "439c68aa",
   "metadata": {},
   "outputs": [],
   "source": [
    "# 8 subset array using hashtables\n",
    "def isSubset(arr1, arr2):\n",
    "    smaller = []\n",
    "    larger = []\n",
    "    hashTable = {}\n",
    "    \n",
    "    if(len(arr1) > len(arr2)):\n",
    "        smaller = arr2\n",
    "        larger = arr1\n",
    "    else:\n",
    "        smaller = arr1\n",
    "        larger = arr2\n",
    "        \n",
    "    for value in larger:\n",
    "        hashTable[value] = True\n",
    "    \n",
    "    for value in smaller:\n",
    "        if(hashTable[value] != True):\n",
    "            return False\n",
    "                \n",
    "    return True\n"
   ]
  },
  {
   "cell_type": "code",
   "execution_count": null,
   "id": "0ddc9b1f",
   "metadata": {},
   "outputs": [],
   "source": [
    "# 9 stack based code linter\n",
    "# leetcode 20\n",
    "class Solution:\n",
    "    def isValid(self, s: str) -> bool:\n",
    "        pairs = {')': '(', ']': '[', '}': '{'}\n",
    "        stack = []\n",
    "\n",
    "        for ch in s:\n",
    "            if ch in pairs.values():        \n",
    "                stack.append(ch)\n",
    "            elif ch in pairs:               \n",
    "                if not stack:               \n",
    "                    return False\n",
    "                if stack.pop() != pairs[ch]:\n",
    "                    return False\n",
    "                \n",
    "        return not stack  \n"
   ]
  },
  {
   "cell_type": "code",
   "execution_count": null,
   "id": "32288c97",
   "metadata": {},
   "outputs": [],
   "source": [
    "# 10 queue printing jobs\n",
    "from collections import deque\n",
    "\n",
    "def queues():\n",
    "    q = deque()\n",
    "    \n",
    "    def appending(document):\n",
    "        q.append(document)\n",
    "        \n",
    "    while len(q) > 0:\n",
    "        print(q.popleft())\n",
    "        \n",
    "    \n"
   ]
  }
 ],
 "metadata": {
  "language_info": {
   "name": "python"
  }
 },
 "nbformat": 4,
 "nbformat_minor": 5
}
