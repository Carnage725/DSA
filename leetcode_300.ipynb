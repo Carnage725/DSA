{
 "cells": [
  {
   "cell_type": "code",
   "execution_count": null,
   "id": "7df30044",
   "metadata": {},
   "outputs": [],
   "source": [
    "# 20. Valid Parentheses"
   ]
  },
  {
   "cell_type": "code",
   "execution_count": null,
   "id": "3c342815",
   "metadata": {},
   "outputs": [],
   "source": [
    "# 169. Majority Element"
   ]
  },
  {
   "cell_type": "code",
   "execution_count": null,
   "id": "3cfd9dd4",
   "metadata": {},
   "outputs": [],
   "source": [
    "# 283. Move Zeroes"
   ]
  },
  {
   "cell_type": "code",
   "execution_count": null,
   "id": "589ff3cf",
   "metadata": {},
   "outputs": [],
   "source": [
    "# 84 Largest Rectangle in Histogram\n",
    "from typing import List\n",
    "\n",
    "class Solution:\n",
    "    def largestRectangleArea(self, heights: List[int]) -> int:\n",
    "        stack = []  # stores indices\n",
    "        max_area = 0\n",
    "        \n",
    "        for i in range(len(heights)):\n",
    "            while stack and heights[i] < heights[stack[-1]]:\n",
    "                h = heights[stack.pop()]\n",
    "                w = i if not stack else i - stack[-1] - 1\n",
    "                max_area = max(max_area, h * w)\n",
    "            stack.append(i)\n",
    "        \n",
    "        while stack:\n",
    "            h = heights[stack.pop()]\n",
    "            w = len(heights) if not stack else len(heights) - stack[-1] - 1\n",
    "            max_area = max(max_area, h * w)\n",
    "        \n",
    "        return max_area\n",
    "\n",
    "# Example usage\n",
    "if __name__ == \"__main__\":\n",
    "    sol = Solution()\n",
    "    heights = [2,1,5,6,2,3]\n",
    "    print(\"Largest rectangle area:\", sol.largestRectangleArea(heights))\n",
    "    # Output: 10\n",
    "\n",
    "    heights2 = [2,4]\n",
    "    print(\"Largest rectangle area:\", sol.largestRectangleArea(heights2))\n",
    "    # Output: 4\n",
    " "
   ]
  }
 ],
 "metadata": {
  "language_info": {
   "name": "python"
  }
 },
 "nbformat": 4,
 "nbformat_minor": 5
}
