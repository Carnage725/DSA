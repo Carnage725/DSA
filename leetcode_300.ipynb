{
 "cells": [
  {
   "cell_type": "code",
   "execution_count": 2,
   "id": "566d0695",
   "metadata": {},
   "outputs": [],
   "source": [
    "from typing import List"
   ]
  },
  {
   "cell_type": "code",
   "execution_count": null,
   "id": "7df30044",
   "metadata": {},
   "outputs": [],
   "source": [
    "# 20. Valid Parentheses\n",
    "class Solution:\n",
    "    def isValid(self, s: str) -> bool:\n",
    "        pairs = {')': '(', ']': '[', '}': '{'}\n",
    "        stack = []\n",
    "\n",
    "        for ch in s:\n",
    "            if ch in pairs.values():        \n",
    "                stack.append(ch)\n",
    "\n",
    "            elif ch in pairs:               \n",
    "                if not stack or stack.pop() != pairs[ch]:   \n",
    "                    return False       \n",
    "                \n",
    "        return not stack"
   ]
  },
  {
   "cell_type": "code",
   "execution_count": null,
   "id": "3c342815",
   "metadata": {},
   "outputs": [],
   "source": [
    "# 169. Majority Element\n",
    "class Solution:\n",
    "    def majorityElement(self, nums: List[int]) -> int:\n",
    "        diff_nums = set(nums)\n",
    "        count = 0\n",
    "        majority = None\n",
    "\n",
    "        for num in diff_nums:\n",
    "            new_count = nums.count(num)\n",
    "\n",
    "            if new_count > count:\n",
    "                count = new_count\n",
    "                majority = num\n",
    "\n",
    "        return majority"
   ]
  },
  {
   "cell_type": "code",
   "execution_count": null,
   "id": "3cfd9dd4",
   "metadata": {},
   "outputs": [],
   "source": [
    "# 283. Move Zeroes\n",
    "class Solution:\n",
    "    def moveZeroes(self, nums: List[int]) -> None:\n",
    "        a = nums\n",
    "        count_zero = a.count(0)\n",
    "        n = len(a)\n",
    "\n",
    "        for i in range(0, count_zero, 1):\n",
    "            for j in range(0, n - 1, 1):\n",
    "                if a[j] == 0 and a[j + 1] != 0:\n",
    "                    a[j], a[j + 1] = a[j + 1], a[j]\n"
   ]
  },
  {
   "cell_type": "code",
   "execution_count": null,
   "id": "64f1a1a8",
   "metadata": {},
   "outputs": [],
   "source": [
    "# 150. Evaluate Reverse Polish Notation\n",
    "class Solution:\n",
    "    def evalRPN(self, tokens: List[str]) -> int:\n",
    "        stack = []\n",
    "        opns = set(\"+-*/\")\n",
    "\n",
    "        for ele in tokens:\n",
    "            if ele not in opns:\n",
    "                stack.append(int(ele))\n",
    "            else:\n",
    "                s1 = stack.pop()\n",
    "                s2 = stack.pop()\n",
    "\n",
    "                process = 0\n",
    "                \n",
    "                if ele == \"+\":\n",
    "                    process = s2 + s1\n",
    "                elif ele == \"-\":\n",
    "                    process = s2 - s1\n",
    "                elif ele == \"*\":\n",
    "                    process = s2 * s1\n",
    "                elif ele == \"/\":\n",
    "                    process = int(s2 / s1)\n",
    "                \n",
    "                stack.append(process)\n",
    "        \n",
    "        return stack.pop()"
   ]
  },
  {
   "cell_type": "code",
   "execution_count": null,
   "id": "bcad00f7",
   "metadata": {},
   "outputs": [],
   "source": [
    "# 151. Reverse Words in a String\n",
    "class Solution:\n",
    "    def reverseWords(self, s: str) -> str:\n",
    "        new_str = s.split()\n",
    "        \n",
    "        rev = []\n",
    "        \n",
    "        for i in range(len(new_str) - 1, -1, -1):\n",
    "            rev.append(new_str[i])\n",
    "            if i != 0:\n",
    "                rev.append(\" \")\n",
    "\n",
    "        return \"\".join(rev)"
   ]
  },
  {
   "cell_type": "code",
   "execution_count": null,
   "id": "ceb6998a",
   "metadata": {},
   "outputs": [],
   "source": [
    "# 227. Basic Calculator II\n",
    "class Solution:\n",
    "    def calculate(self, s: str) -> int:\n",
    "        stack = []\n",
    "        num = 0\n",
    "        op = '+'\n",
    "        n = len(s)\n",
    "\n",
    "        for i, char in enumerate(s):\n",
    "            \n",
    "            if char.isdigit():\n",
    "                num = num * 10 + int(char)\n",
    "\n",
    "            if char in '+-*/' or i == n - 1:\n",
    "                \n",
    "                if char == ' ' and i != n - 1:\n",
    "                    continue\n",
    "                \n",
    "                if op == '+':\n",
    "                    stack.append(num)\n",
    "                elif op == '-':\n",
    "                    stack.append(-num)\n",
    "                elif op == '*':\n",
    "                    stack.append(stack.pop() * num)\n",
    "                elif op == '/':\n",
    "                    stack.append(int(stack.pop() / num))\n",
    "\n",
    "                if i != n - 1:\n",
    "                    op = char\n",
    "                    num = 0\n",
    "\n",
    "        return sum(stack)\n"
   ]
  },
  {
   "cell_type": "code",
   "execution_count": null,
   "id": "589ff3cf",
   "metadata": {},
   "outputs": [],
   "source": [
    "# 1. Two Sum\n",
    "class Solution:\n",
    "    def twoSum(self, nums: List[int], target: int) -> List[int]:\n",
    "        pair_idx = {}\n",
    "\n",
    "        for i, num in enumerate(nums):\n",
    "            if target - num in pair_idx:\n",
    "                return [i, pair_idx[target - num]]\n",
    "            pair_idx[num] = i"
   ]
  },
  {
   "cell_type": "code",
   "execution_count": null,
   "id": "a8ad370d",
   "metadata": {},
   "outputs": [],
   "source": [
    "# 387. First Unique Character in a String\n",
    "class Solution:\n",
    "    def firstUniqChar(self, s: str) -> int:\n",
    "        hashMap = {}\n",
    "\n",
    "        for key in s:\n",
    "            if key in hashMap:\n",
    "                hashMap[key] += 1\n",
    "            else:\n",
    "                hashMap[key] = 1\n",
    "        \n",
    "        for key, value in hashMap.items():\n",
    "            if value == 1:\n",
    "                return s.index(key)\n",
    "\n",
    "        return -1"
   ]
  }
 ],
 "metadata": {
  "kernelspec": {
   "display_name": ".venv",
   "language": "python",
   "name": "python3"
  },
  "language_info": {
   "codemirror_mode": {
    "name": "ipython",
    "version": 3
   },
   "file_extension": ".py",
   "mimetype": "text/x-python",
   "name": "python",
   "nbconvert_exporter": "python",
   "pygments_lexer": "ipython3",
   "version": "3.13.7"
  }
 },
 "nbformat": 4,
 "nbformat_minor": 5
}
