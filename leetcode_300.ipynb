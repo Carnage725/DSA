{
 "cells": [
  {
   "cell_type": "code",
   "execution_count": null,
   "id": "7df30044",
   "metadata": {},
   "outputs": [],
   "source": [
    "# 20. Valid Parentheses\n",
    "class Solution:\n",
    "    def isValid(self, s: str) -> bool:\n",
    "        pairs = {')': '(', ']': '[', '}': '{'}\n",
    "        stack = []\n",
    "\n",
    "        for ch in s:\n",
    "            if ch in pairs.values():        \n",
    "                stack.append(ch)\n",
    "\n",
    "            elif ch in pairs:               \n",
    "                if not stack or stack.pop() != pairs[ch]:   \n",
    "                    return False       \n",
    "                \n",
    "        return not stack"
   ]
  },
  {
   "cell_type": "code",
   "execution_count": null,
   "id": "3c342815",
   "metadata": {},
   "outputs": [],
   "source": [
    "# 169. Majority Element\n",
    "class Solution:\n",
    "    def majorityElement(self, nums: List[int]) -> int:\n",
    "        diff_nums = set(nums)\n",
    "        count = 0\n",
    "        majority = None\n",
    "\n",
    "        for num in diff_nums:\n",
    "            new_count = nums.count(num)\n",
    "\n",
    "            if new_count > count:\n",
    "                count = new_count\n",
    "                majority = num\n",
    "\n",
    "        return majority"
   ]
  },
  {
   "cell_type": "code",
   "execution_count": null,
   "id": "3cfd9dd4",
   "metadata": {},
   "outputs": [],
   "source": [
    "# 283. Move Zeroes\n",
    "class Solution:\n",
    "    def moveZeroes(self, nums: List[int]) -> None:\n",
    "        a = nums\n",
    "        count_zero = a.count(0)\n",
    "        n = len(a)\n",
    "\n",
    "        for i in range(0, count_zero, 1):\n",
    "            for j in range(0, n - 1, 1):\n",
    "                if a[j] == 0 and a[j + 1] != 0:\n",
    "                    a[j], a[j + 1] = a[j + 1], a[j]\n"
   ]
  },
  {
   "cell_type": "code",
   "execution_count": null,
   "id": "589ff3cf",
   "metadata": {},
   "outputs": [],
   "source": [
    "# 84 Largest Rectangle in Histogram\n",
    "from typing import List\n",
    "\n",
    "class Solution:\n",
    "    def largestRectangleArea(self, heights: List[int]) -> int:\n",
    "        stack = []  # stores indices\n",
    "        max_area = 0\n",
    "        \n",
    "        for i in range(len(heights)):\n",
    "            while stack and heights[i] < heights[stack[-1]]:\n",
    "                h = heights[stack.pop()]\n",
    "                w = i if not stack else i - stack[-1] - 1\n",
    "                max_area = max(max_area, h * w)\n",
    "            stack.append(i)\n",
    "        \n",
    "        while stack:\n",
    "            h = heights[stack.pop()]\n",
    "            w = len(heights) if not stack else len(heights) - stack[-1] - 1\n",
    "            max_area = max(max_area, h * w)\n",
    "        \n",
    "        return max_area\n",
    "\n",
    "# Example usage\n",
    "if __name__ == \"__main__\":\n",
    "    sol = Solution()\n",
    "    heights = [2,1,5,6,2,3]\n",
    "    print(\"Largest rectangle area:\", sol.largestRectangleArea(heights))\n",
    "    # Output: 10\n",
    "\n",
    "    heights2 = [2,4]\n",
    "    print(\"Largest rectangle area:\", sol.largestRectangleArea(heights2))\n",
    "    # Output: 4\n",
    " "
   ]
  }
 ],
 "metadata": {
  "language_info": {
   "name": "python"
  }
 },
 "nbformat": 4,
 "nbformat_minor": 5
}
